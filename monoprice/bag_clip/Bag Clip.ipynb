{
 "cells": [
  {
   "cell_type": "markdown",
   "metadata": {},
   "source": [
    "**Author:** Ashton Reimer"
   ]
  },
  {
   "cell_type": "markdown",
   "metadata": {},
   "source": [
    "**Date:** 16 July 2022\n",
    "\n",
    "### **Description**\n",
    "\n",
    "Printing a bag clip that I found on thingiverse: https://www.thingiverse.com/thing:3238736 so that I can use this on my bags of coffee beans.\n",
    "\n",
    "### **Expected Result**\n",
    "\n",
    "The bag clip includes a screw cap for easier opening and closing of the bag:\n",
    "<div>\n",
    "<img src=\"images/expected.jpg\" width=\"400\">\n",
    "</div>\n",
    "\n",
    "### **Fusion 360**\n",
    "\n",
    "The main clip is larger than what the monoprix can print, so I had to split the print up into 2 parts. I clipped it using Fusion 360.\n",
    "\n",
    "### **CURA**\n",
    "\n",
    "The STL was sliced using 0.175mm layer height, 100% infill with a line pattern, and 190 C extuder temperature. Also set z-hopping with extraction and auto-generated supports with a brim for better bed adhesion."
   ]
  },
  {
   "cell_type": "markdown",
   "metadata": {},
   "source": [
    "**Date:** 17 July 2022\n",
    "\n",
    "### **Results**\n",
    "\n",
    "The print worked great and I was able to glue the pieces together:\n",
    "\n",
    "<div>\n",
    "    <img src=\"images/print1.jpg\" width=\"400\">\n",
    "</div>\n",
    "<div>\n",
    "    <img src=\"images/print2.jpg\" width=\"400\">\n",
    "</div>\n",
    "\n",
    "Unfortunately, this design suffers from 2 problems:\n",
    "\n",
    "1. the latching mechanism on the end is too rigid and difficult to engage, so I supplemented it with a twist tie\n",
    "2. the screw insert doesn't engage enough with the clip, so screwing on the cap causes the insert to spin\n",
    "\n",
    "I was able to fix #2 by scoring the insert and clip with a knife to give it some teeth. I also added some beeswax to the where the insert interfaces with the coffee bag and that helped too.\n",
    "\n",
    "But ultimately, I ended up trying another design."
   ]
  },
  {
   "cell_type": "markdown",
   "metadata": {},
   "source": [
    "### **Design #2**\n",
    "\n",
    "Here's the other bag clip design that I found on thingiverse: https://www.thingiverse.com/thing:3238736. This one features 2 stops that prevent the insert from spinning and an improved locking clip! \n",
    "<div>\n",
    "    <img src=\"images/design2.jpg\" width=\"400\">\n",
    "</div>\n",
    "\n",
    "### **CURA**\n",
    "\n",
    "I shrunk the STL to 80% so it would fit on the print bed. This clip design is based on the previous one and found that to be too long. The STL was sliced using 0.13125mm layer height, 10% infill with a grid pattern, and 200 C extuder temperature. Also set z-hopping with extraction and auto-generated supports with a brim for better bed adhesion."
   ]
  },
  {
   "cell_type": "markdown",
   "metadata": {},
   "source": [
    "**Date:** 18 July 2022\n",
    "\n",
    "### **Results**\n",
    "\n",
    "This print also worked great and is much more functional:\n",
    "\n",
    "<div>\n",
    "    <img src=\"images/print3.jpg\" width=\"400\">\n",
    "</div>\n",
    "<div>\n",
    "    <img src=\"images/print4.jpg\" width=\"400\">\n",
    "</div>\n",
    "\n",
    "The tab works perfect and prevents the insert from spinning when unscrewing the cap."
   ]
  }
 ],
 "metadata": {
  "kernelspec": {
   "display_name": "Python 3",
   "language": "python",
   "name": "python3"
  },
  "language_info": {
   "codemirror_mode": {
    "name": "ipython",
    "version": 3
   },
   "file_extension": ".py",
   "mimetype": "text/x-python",
   "name": "python",
   "nbconvert_exporter": "python",
   "pygments_lexer": "ipython3",
   "version": "3.7.4"
  }
 },
 "nbformat": 4,
 "nbformat_minor": 4
}
