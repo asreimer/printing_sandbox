{
 "cells": [
  {
   "cell_type": "markdown",
   "metadata": {},
   "source": [
    "**Author:** Ashton Reimer"
   ]
  },
  {
   "cell_type": "markdown",
   "metadata": {},
   "source": [
    "**Date:** 3 April 2021\n",
    "\n",
    "### **Description**\n",
    "\n",
    "Building an antenna mount so that I can mount the rabbit ears antenna that I use for my piaware setup outside on the fence.\n",
    "\n",
    "### **OpenSCAD**\n",
    "\n",
    "I used OpenSCAD to build the 3D model of the antenna mount. The fence slats are ~2cm thick and the part of the antenna that I want the mount to hold is ~4 cm wide, ~2cm deep and ~2cm tall, with a stem that is ~1.7cm thick.\n",
    "\n",
    "Here's some pictures of the portion of the antenna that I want the mount to grab on to:\n",
    "<div>\n",
    "<img src=\"images/antenna1.jpg\" width=\"400\">\n",
    "</div>\n",
    "<div>\n",
    "<img src=\"images/antenna2.jpg\" width=\"400\">\n",
    "</div>\n",
    "Using the dimensions, here's the 3D model I came up with:\n",
    "\n",
    "<div>\n",
    "<img src=\"images/3D_model.png\" width=\"400\">\n",
    "</div>\n",
    "\n",
    "Note that the model is on it's side, so that it's easier to print! We'll need some supports in the screw holes and in the stem gap, but that's a lot less filament wasted in this position than if we oriented it any other way. I could have broken it into pieces that can be glued together, but I decided not to.\n",
    "\n",
    "The minimum thickness of the walls of the mount is 4 mm. The screw holes are 3 mm diameter in the mount and 4mm in the top plate that will cover the mount. The saddle of the mount will overhang the fence by 46mm, with a width of 50mm. Next, the model was exported to an STL file and sliced it with CURA.\n",
    "\n",
    "### **CURA**\n",
    "\n",
    "The STL was sliced using 0.175mm layer height, 75% infill with a line pattern, and 190 C extuder temperature. Also set z-hopping with extraction and auto-generated supports with a brim for better bed adhesion."
   ]
  },
  {
   "cell_type": "markdown",
   "metadata": {},
   "source": [
    "**Date:** 4 April 2021\n",
    "\n",
    "### **Results**\n",
    "\n",
    "The print worked great!\n",
    "\n",
    "<div>\n",
    "    <img src=\"images/result1.jpg\" width=\"400\">\n",
    "    <img src=\"images/result2.jpg\" width=\"400\">\n",
    "    <img src=\"images/result3.jpg\" width=\"400\">\n",
    "</div>\n",
    "\n",
    "Now it just needs to be painted so that it's waterproofed."
   ]
  },
  {
   "cell_type": "markdown",
   "metadata": {},
   "source": [
    "**Date:** 7 April 2021\n",
    "\n",
    "### **Completed After Painting**\n",
    "\n",
    "I painted the mount with a spray paint primer, followed by a coat of gold spray paint. I think the results are really nice!\n",
    "\n",
    "<div>\n",
    "    <img src=\"images/painted1.jpg\" width=\"400\">\n",
    "    <img src=\"images/painted2.jpg\" width=\"400\">\n",
    "</div>\n",
    "\n",
    "After installing the antenna in the mount, I mounted the antenna outside.\n",
    "<div>\n",
    "    <img src=\"images/painted3.jpg\" width=\"400\">\n",
    "</div>\n",
    "\n",
    "This antenna is being used for a piaware system that I put together:\n",
    "<div>\n",
    "    <img src=\"images/piaware1.jpg\" width=\"400\">\n",
    "    <img src=\"images/piaware2.png\" width=\"400\">\n",
    "</div>"
   ]
  }
 ],
 "metadata": {
  "kernelspec": {
   "display_name": "Python 3",
   "language": "python",
   "name": "python3"
  },
  "language_info": {
   "codemirror_mode": {
    "name": "ipython",
    "version": 3
   },
   "file_extension": ".py",
   "mimetype": "text/x-python",
   "name": "python",
   "nbconvert_exporter": "python",
   "pygments_lexer": "ipython3",
   "version": "3.7.4"
  }
 },
 "nbformat": 4,
 "nbformat_minor": 4
}
