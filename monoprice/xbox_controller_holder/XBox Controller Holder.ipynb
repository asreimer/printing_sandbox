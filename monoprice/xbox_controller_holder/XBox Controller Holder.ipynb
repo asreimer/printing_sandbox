{
 "cells": [
  {
   "cell_type": "markdown",
   "metadata": {},
   "source": [
    "**Author:** Ashton Reimer"
   ]
  },
  {
   "cell_type": "markdown",
   "metadata": {},
   "source": [
    "**Date:** 16 July 2022\n",
    "\n",
    "### **Description**\n",
    "\n",
    "Printing an underdesk XBox controller that I found on thingiverse: https://www.thingiverse.com/thing:4824638\n",
    "\n",
    "### **Expected Result**\n",
    "\n",
    "This holder is designed to be secured to the bottom of the desk, with the xbox controller suspended from its joysticks:\n",
    "<div>\n",
    "<img src=\"images/example.jpg\" width=\"400\">\n",
    "</div>\n",
    "\n",
    "### **CURA**\n",
    "\n",
    "The STL was sliced using 0.175mm layer height, 75% infill with a line pattern, and 190 C extuder temperature. Also set z-hopping with extraction and auto-generated supports with a brim for better bed adhesion."
   ]
  },
  {
   "cell_type": "markdown",
   "metadata": {},
   "source": [
    "**Date:** 16 July 2022\n",
    "\n",
    "### **Results**\n",
    "\n",
    "The print turned out great!\n",
    "\n",
    "<div>\n",
    "    <img src=\"images/print.jpg\" width=\"400\">\n",
    "</div>\n",
    "\n",
    "Now it just needs to be painted black to match the desk."
   ]
  },
  {
   "cell_type": "markdown",
   "metadata": {},
   "source": [
    "**Date:** 18 July 2022\n",
    "\n",
    "### **Completed After Painting**\n",
    "\n",
    "I painted the mount with a spray paint primer, followed by a coat of black spray paint. Finally, I mounted the plate to the underside of my desk. It works great!\n",
    "\n",
    "<div>\n",
    "    <img src=\"images/mounted1.jpg\" width=\"400\">\n",
    "    <img src=\"images/mounted2.jpg\" width=\"400\">\n",
    "</div>"
   ]
  }
 ],
 "metadata": {
  "kernelspec": {
   "display_name": "Python 3",
   "language": "python",
   "name": "python3"
  },
  "language_info": {
   "codemirror_mode": {
    "name": "ipython",
    "version": 3
   },
   "file_extension": ".py",
   "mimetype": "text/x-python",
   "name": "python",
   "nbconvert_exporter": "python",
   "pygments_lexer": "ipython3",
   "version": "3.7.4"
  }
 },
 "nbformat": 4,
 "nbformat_minor": 4
}
