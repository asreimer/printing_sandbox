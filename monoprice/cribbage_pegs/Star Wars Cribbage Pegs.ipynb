{
 "cells": [
  {
   "cell_type": "markdown",
   "metadata": {},
   "source": [
    "**Author:** Ashton Reimer"
   ]
  },
  {
   "cell_type": "markdown",
   "metadata": {},
   "source": [
    "**Date:** 29 May 2021\n",
    "\n",
    "### **Description**\n",
    "\n",
    "Family and friends enjoy playing cribbage and Star Wars, hence the idea to make custom Star Wars themed Cribbage pegs.\n",
    "\n",
    "### **Combining 3D Models in Fusion 360**\n",
    "\n",
    "I'm going to use Fusion 360 to combine existing 3D models of Star Wars characters with a cribbage peg. First, download a personal hobby-use copy here: https://www.autodesk.com/products/fusion-360/personal\n",
    "\n",
    "Then, I found some nice existing 3D models on Thingiverse:\n",
    "  - Baby Yoda: https://www.thingiverse.com/thing:4038181\n",
    "  - Ewok: https://www.thingiverse.com/thing:2881276\n",
    "  - Cribbage Peg: https://www.thingiverse.com/thing:2485436\n",
    "  \n",
    "Here's the results:\n",
    "\n",
    "<div>\n",
    "<img src=\"images/yoda_head_peg.png\" width=\"400\">\n",
    "</div>\n",
    "\n",
    "<div>\n",
    "<img src=\"images/ewok_head_peg.png\" width=\"400\">\n",
    "</div>\n",
    "\n",
    "### **CURA**\n",
    "\n",
    "The STLs were sliced using 0.1313mm layer height (fine), 30% infill with a grid pattern, brim, and 185 C extuder temperature."
   ]
  },
  {
   "cell_type": "markdown",
   "metadata": {},
   "source": [
    "### **Results**\n",
    "\n",
    "<div>\n",
    "<img src=\"images/results.jpg\" width=\"400\">\n",
    "</div>\n"
   ]
  }
 ],
 "metadata": {
  "kernelspec": {
   "display_name": "Python 3",
   "language": "python",
   "name": "python3"
  },
  "language_info": {
   "codemirror_mode": {
    "name": "ipython",
    "version": 3
   },
   "file_extension": ".py",
   "mimetype": "text/x-python",
   "name": "python",
   "nbconvert_exporter": "python",
   "pygments_lexer": "ipython3",
   "version": "3.7.4"
  }
 },
 "nbformat": 4,
 "nbformat_minor": 4
}
