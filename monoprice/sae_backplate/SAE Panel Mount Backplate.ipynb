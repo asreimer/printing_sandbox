{
 "cells": [
  {
   "cell_type": "markdown",
   "metadata": {},
   "source": [
    "**Author:** Ashton Reimer"
   ]
  },
  {
   "cell_type": "markdown",
   "metadata": {},
   "source": [
    "**Date:** 13 March 2021\n",
    "\n",
    "### **Description**\n",
    "\n",
    "Building a backplate for an SAE panel mount connector for a solar powered battery box. The walls of the battery box are a bit thin and flexible, so the backplate is intended to provide some stiffening and support for the panel mount when plugging and unplugging the panel mount connector.\n",
    "\n",
    "### **OpenSCAD**\n",
    "\n",
    "I used OpenSCAD to build the 3D model of the backplate. The panel mount has 4 holes spaced 25 mm apart. It also has a central circular shaped bit where the wires extend from with radius of approximately 1 cm.\n",
    "\n",
    "Here's what the front of the panel mount connector looks like:\n",
    "<div>\n",
    "<img src=\"images/panel_mount_part_dimensions.jpg\" width=\"400\">\n",
    "</div>\n",
    "\n",
    "Using the dimensions, here's the 3D model I came up with:\n",
    "\n",
    "<div>\n",
    "<img src=\"images/3D_model.png\" width=\"400\">\n",
    "</div>\n",
    "\n",
    "The backplate is 4 mm thick, 70 mm radius cylinder. The holes are 2 mm diameter. Next, the model was exported to an STL file and sliced it with CURA.\n",
    "\n",
    "### **CURA**\n",
    "\n",
    "The STL was sliced using 0.175mm layer height, 100% infill with a line pattern, and 200 C extuder temperature for good layer adhesion."
   ]
  },
  {
   "cell_type": "code",
   "execution_count": null,
   "metadata": {},
   "outputs": [],
   "source": []
  }
 ],
 "metadata": {
  "kernelspec": {
   "display_name": "Python 3",
   "language": "python",
   "name": "python3"
  },
  "language_info": {
   "codemirror_mode": {
    "name": "ipython",
    "version": 3
   },
   "file_extension": ".py",
   "mimetype": "text/x-python",
   "name": "python",
   "nbconvert_exporter": "python",
   "pygments_lexer": "ipython3",
   "version": "3.7.4"
  }
 },
 "nbformat": 4,
 "nbformat_minor": 4
}
