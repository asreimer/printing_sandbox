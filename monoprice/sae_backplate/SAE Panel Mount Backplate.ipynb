{
 "cells": [
  {
   "cell_type": "markdown",
   "metadata": {},
   "source": [
    "**Author:** Ashton Reimer"
   ]
  },
  {
   "cell_type": "markdown",
   "metadata": {},
   "source": [
    "**Date:** 13 March 2021\n",
    "\n",
    "### **Description**\n",
    "\n",
    "Building a backplate for an SAE panel mount connector for a solar powered battery box. The walls of the battery box are a bit thin and flexible, so the backplate is intended to provide some stiffening and support for the panel mount when plugging and unplugging the panel mount connector.\n",
    "\n",
    "### **OpenSCAD**\n",
    "\n",
    "I used OpenSCAD to build the 3D model of the backplate. The panel mount has 4 holes spaced 25 mm apart. It also has a central circular shaped bit where the wires extend from with radius of approximately 1 cm.\n",
    "\n",
    "Here's what the front of the panel mount connector looks like:\n",
    "<div>\n",
    "<img src=\"images/panel_mount_part_dimensions.jpg\" width=\"400\">\n",
    "</div>\n",
    "\n",
    "Using the dimensions, here's the 3D model I came up with:\n",
    "\n",
    "<div>\n",
    "<img src=\"images/3D_model.png\" width=\"400\">\n",
    "</div>\n",
    "\n",
    "The backplate is 4 mm thick, 70 mm radius cylinder. The screw holes are 2 mm diameter. The large whole in the center is 20 mm diameter. Next, the model was exported to an STL file and sliced it with CURA.\n",
    "\n",
    "### **CURA**\n",
    "\n",
    "The STL was sliced using 0.175mm layer height, 100% infill with a line pattern, and 200 C extuder temperature for good layer adhesion."
   ]
  },
  {
   "cell_type": "markdown",
   "metadata": {},
   "source": [
    "**Date:** 14 March 2021\n",
    "\n",
    "### **Results**\n",
    "\n",
    "The print worked fine:\n",
    "\n",
    "<div>\n",
    "<img src=\"images/result1.jpg\" width=\"400\">\n",
    "</div>\n",
    "\n",
    "but there are a couple problems:\n",
    "1. The big hole in the center was a bit too small, and\n",
    "2. the screw holes do work, but would be better at 3mm diameter than they are at 2mm.\n",
    "\n",
    "So I made the center hole larger at 25 mm diameter and the screw holes 3mm diameter and reprinted it:\n",
    "\n",
    "<div>\n",
    "<img src=\"images/result2.1.jpg\" width=\"400\">\n",
    "</div>\n",
    "<div>\n",
    "<img src=\"images/result2.2.jpg\" width=\"400\">\n",
    "</div>\n",
    "<div>\n",
    "<img src=\"images/result2.3.jpg\" width=\"400\">\n",
    "</div>\n",
    "\n",
    "Success!"
   ]
  }
 ],
 "metadata": {
  "kernelspec": {
   "display_name": "Python 3",
   "language": "python",
   "name": "python3"
  },
  "language_info": {
   "codemirror_mode": {
    "name": "ipython",
    "version": 3
   },
   "file_extension": ".py",
   "mimetype": "text/x-python",
   "name": "python",
   "nbconvert_exporter": "python",
   "pygments_lexer": "ipython3",
   "version": "3.7.4"
  }
 },
 "nbformat": 4,
 "nbformat_minor": 4
}
