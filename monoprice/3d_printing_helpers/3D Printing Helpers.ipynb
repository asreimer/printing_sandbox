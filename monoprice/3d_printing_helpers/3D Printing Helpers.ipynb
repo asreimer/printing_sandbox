{
 "cells": [
  {
   "cell_type": "markdown",
   "metadata": {},
   "source": [
    "**Author:** Ashton Reimer"
   ]
  },
  {
   "cell_type": "markdown",
   "metadata": {},
   "source": [
    "**Date:** 17 July 2022\n",
    "\n",
    "### **Description**\n",
    "\n",
    "The filament on the Monoprice MP Select Mini rubs against the chasis of the printer as it is pulled into feed. This filament guide should help prevent that: https://www.thingiverse.com/thing:1788944.\n",
    "\n",
    "Here's the expected result:\n",
    "<div>\n",
    "    <img src=\"images/expected.jpg\" width=\"400\">\n",
    "</div>\n",
    "\n",
    "### **CURA**\n",
    "\n",
    "The STL was sliced using 0.175mm layer height, 100% infill with a line pattern, and 190 C extuder temperature. Also set z-hopping with extraction and auto-generated supports with a brim for better bed adhesion."
   ]
  },
  {
   "cell_type": "markdown",
   "metadata": {},
   "source": [
    "**Date:** 19 July 2022\n",
    "\n",
    "### **Results**\n",
    "\n",
    "Here's the print results. It is currently helping with another print in progress:\n",
    "\n",
    "<div>\n",
    "    <img src=\"images/result.jpg\" width=\"400\">\n",
    "</div>\n"
   ]
  }
 ],
 "metadata": {
  "kernelspec": {
   "display_name": "Python 3",
   "language": "python",
   "name": "python3"
  },
  "language_info": {
   "codemirror_mode": {
    "name": "ipython",
    "version": 3
   },
   "file_extension": ".py",
   "mimetype": "text/x-python",
   "name": "python",
   "nbconvert_exporter": "python",
   "pygments_lexer": "ipython3",
   "version": "3.7.4"
  }
 },
 "nbformat": 4,
 "nbformat_minor": 4
}
