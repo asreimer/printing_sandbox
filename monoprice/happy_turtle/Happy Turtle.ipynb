{
 "cells": [
  {
   "cell_type": "markdown",
   "metadata": {},
   "source": [
    "**Author:** Ashton Reimer"
   ]
  },
  {
   "cell_type": "markdown",
   "metadata": {},
   "source": [
    "Printed a new model overnight: \"The Golden Turtle of Happiness\": http://www.thingiverse.com/thing:3127983\n",
    "\n",
    "I sliced it using Cura with fine settings and told Cura to add supports. I also moved the model down into the print bed slightly so that the feet of the turtle would properly adhere to the bed. It took approximately 5 hours to print.\n",
    "\n",
    "Expected:\n",
    "<div>\n",
    "<img src=\"images/expected.jpg\" width=\"400\">\n",
    "</div>\n",
    "\n",
    "\n",
    "Result:\n",
    "<div>\n",
    "<img src=\"images/result.jpg\" width=\"400\">\n",
    "</div>\n",
    "\n",
    "And all cleaned up:\n",
    "\n",
    "<div>\n",
    "<img src=\"images/cleanedup.jpg\" width=\"400\">\n",
    "</div>\n",
    "\n"
   ]
  },
  {
   "cell_type": "code",
   "execution_count": null,
   "metadata": {},
   "outputs": [],
   "source": []
  }
 ],
 "metadata": {
  "kernelspec": {
   "display_name": "Python 3",
   "language": "python",
   "name": "python3"
  },
  "language_info": {
   "codemirror_mode": {
    "name": "ipython",
    "version": 3
   },
   "file_extension": ".py",
   "mimetype": "text/x-python",
   "name": "python",
   "nbconvert_exporter": "python",
   "pygments_lexer": "ipython3",
   "version": "3.7.4"
  }
 },
 "nbformat": 4,
 "nbformat_minor": 4
}
