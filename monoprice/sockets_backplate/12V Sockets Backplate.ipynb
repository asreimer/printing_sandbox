{
 "cells": [
  {
   "cell_type": "markdown",
   "metadata": {},
   "source": [
    "**Author:** Ashton Reimer"
   ]
  },
  {
   "cell_type": "markdown",
   "metadata": {},
   "source": [
    "**Date:** 3 June 2021\n",
    "\n",
    "### **Description**\n",
    "\n",
    "Putting final touches on the solar-powered battery bank project, I'm adding 2x 12V cigarette lighter sockets, some USB ports, and a switch that disconnects the battery. Since the walls of the battery box are thin and flexible, a backplate adds some needed rigidity to support cycling plugs in and out of the ports.\n",
    "\n",
    "### **Building the Backplate Model in Fusion 360**\n",
    "\n",
    "The model for the backplate was built using Fusions 360. The dimensions for the sockets and switch were found on the product pages:  \n",
    "\n",
    "<div>\n",
    "<img src=\"images/marine_socket_dimensions.jpg\" width=\"400\">\n",
    "</div>\n",
    "\n",
    "<div>\n",
    "<img src=\"images/battery_disconnect_dimensions.jpg\" width=\"400\">\n",
    "</div>\n",
    "\n",
    "The diameter of the screw holes was set to 2mm (this should have been 2mm radius, but I messed up, so if you want to use the model, you'll need to increase the hole size).\n",
    "\n",
    "The sockets, USB ports, and switches were arranges in a diamond formation. The maximum allowed dimension needed to be less than 115 mm to fit between the batteries inside the battery box and less than 120 mm to be printable on the monoprix.\n",
    "\n",
    "Here are the sockets and the usb socket. At the time of designing, I didn't have the battery switch yet:\n",
    "\n",
    "<div>\n",
    "<img src=\"images/sockets.jpg\" width=\"400\">\n",
    "</div>\n",
    "\n",
    "This is was the model that was made:\n",
    "<div>\n",
    "<img src=\"images/design_part.jpg\" width=\"400\">\n",
    "</div>\n",
    "\n",
    "### **Slicing in CURA**\n",
    "\n",
    "The STL was sliced using 0.175mm layer height (normal), 25% infill with a grid pattern, no brim, 195 C extuder temperature, and 5 layer thickness in the walls."
   ]
  },
  {
   "cell_type": "markdown",
   "metadata": {},
   "source": [
    "### **Results**\n",
    "\n",
    "<div>\n",
    "<img src=\"images/printing.jpg\" width=\"400\">\n",
    "</div>\n",
    "\n",
    "<div>\n",
    "<img src=\"images/results.jpg\" width=\"400\">\n",
    "</div>\n"
   ]
  }
 ],
 "metadata": {
  "kernelspec": {
   "display_name": "Python 3",
   "language": "python",
   "name": "python3"
  },
  "language_info": {
   "codemirror_mode": {
    "name": "ipython",
    "version": 3
   },
   "file_extension": ".py",
   "mimetype": "text/x-python",
   "name": "python",
   "nbconvert_exporter": "python",
   "pygments_lexer": "ipython3",
   "version": "3.7.4"
  }
 },
 "nbformat": 4,
 "nbformat_minor": 4
}
